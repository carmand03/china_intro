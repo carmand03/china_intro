{
 "cells": [
  {
   "attachments": {},
   "cell_type": "markdown",
   "metadata": {
    "tags": [
     "title"
    ]
   },
   "source": [
    "# ReOrienting Digital History: New frontiers in Chinese Studies"
   ]
  },
  {
   "cell_type": "markdown",
   "metadata": {
    "tags": [
     "contributor"
    ]
   },
   "source": [
    " ### Cécile  Armand [![orcid](https://orcid.org/sites/default/files/images/orcid_16x16.png)](https://orcid.org/0000-0002-9107-6443) \n",
    "Aix-Marseille University"
   ]
  },
  {
   "cell_type": "markdown",
   "metadata": {
    "tags": [
     "copyright"
    ]
   },
   "source": [
    "[![cc-by-nc-nd](https://licensebuttons.net/l/by-nc-nd/4.0/88x31.png)](https://creativecommons.org/licenses/by-nc-nd/4.0/) \n",
    "©<Cécile ARMAND>. Published by De Gruyter in cooperation with the University of Luxembourg Centre for Contemporary and Digital History. This is an Open Access article distributed under the terms of the [Creative Commons Attribution License CC-BY-NC-ND](https://creativecommons.org/licenses/by-nc-nd/4.0/)"
   ]
  },
  {
   "cell_type": "code",
   "execution_count": 1,
   "metadata": {
    "tags": [
     "cover"
    ]
   },
   "outputs": [
    {
     "data": {
      "image/png": "[encoded data removed]"
     },
     "metadata": {},
     "output_type": "display_data"
    }
   ],
   "source": [
    "library(\"IRdisplay\")\n",
    "display_png(file=\"./media/placeholder.png\")"
   ]
  },
  {
   "cell_type": "markdown",
   "metadata": {
    "tags": [
     "keywords"
    ]
   },
   "source": [
    "China, Digital humanities, Computational turn, Area studies"
   ]
  },
  {
   "cell_type": "markdown",
   "metadata": {
    "tags": [
     "abstract"
    ]
   },
   "source": [
    "This is the introduction to the JDH special issue on Chinese digital history."
   ]
  },
  {
   "cell_type": "markdown",
   "metadata": {},
   "source": [
    "## Introduction"
   ]
  },
  {
   "attachments": {},
   "cell_type": "markdown",
   "metadata": {},
   "source": [
    "This journal special issue is the outcome of the [“New Foundations in Chinese Digital History” Conference](https://summi.enpchina.eu/members/) held in June 2022 under the auspices of the “Elites, Networks, and Power in modern China” [(ENP-China)](https://www.enpchina.eu/) project in Aix-en-Provence.  Drawing connections between papers gathered in a special issue is often a challenge. Indeed, each article constitutes a unique research driven by specific interests and involving specific expertise. In this particular issue, the breath of topics, historical periods, sources, and methods covered by the papers makes the editor’s task particularly difficult. What do they actually have in common, besides sharing the same origin and having something to do with Chinese history and digital methods? How do their approaches differ from the digital scholarship produced outside the field of Chinese studies? The question is not an artificial one. It is a unique opportunity to explore the meanings and implications of digital history within and beyond the China field."
   ]
  },
  {
   "attachments": {},
   "cell_type": "markdown",
   "metadata": {},
   "source": [
    "The five papers that constitute this special issue illustrate the multifarious ways digital methods can be applied in the field of Chinese studies. Paul Vierthaler takes the famous late Ming novel *Jinpingmei* (Plum in the Golden Vase) as a test case for developing a generalizable approach for automatic detection of intertextuality and disambiguation of sources in Chinese literary history. He is not only able to map the uneven distribution of intertextuality across the novel, but also to computationally assess the influence of earlier works like *Shuihu Zhuan* and the likely influence of *Jinpingmei* on contemporary works such as *Cinüe*. Subsequently, Elisabeth Kaske and Florian Kessler utilise Monte Carlo simulation and network analysis to reveal the “hidden rules” of the Qing mandarinate based on a popular game of the time, shedding light on both the construction of the Qing social reality, as well as the game designers’ perceptions of it. Their findings highlight the significance of hereditary privileges, which challenges the commonly held view of a meritocratic system, and that of office purchases, which introduced an element of strategy but do not diminish the importance of hereditary privileges and examination degrees. Taking the Chinese newspaper *Shenbao* as his core source, Christian Henriot combines natural language processing, network analysis, and topic modelling to determine who was newsworthy in the early Chinese press, and in which context eminent and less eminent people appeared in the Shanghai newspaper. He found that a small segment of literati emerged amidst a sea of nobodies, which mirrors the concerns and expectations of *Shenbao*’s intended readers and reveals the process of news making in the early phase of Chinese journalism. Cécile Armand also employs topic modelling - a statistical method aimed at identifying latent themes in text corpora based on the most frequent word co-occurrences - to map the development of a transnational public sphere in China during the Republican period. She demonstrates that despite growing tensions during the interwar years, major newspapers, both Chinese and foreign, and multinational organisations like the Rotary Club consistently emphasised non-violent modes of action, through meetings, entertainment venues, lectures, and philanthropy, in sharp contrast with the war of resistance advocated by nationalist organisations and political publications during the same period. Finally, Marylin Levine and Heidi Yu Huang utilise a combination of quantitative analysis, hierarchical clustering, network analysis, and “mini-biographical portraits” to explore a group of Chinese students in Europe. Their “enriched prosopography” approach illuminates individual and group dynamics and helps to understand why, in the context of growing politicization after 1927, some became revolutionaries, while others chose to prioritise their academic careers and became political intellectuals."
   ]
  },
  {
   "attachments": {},
   "cell_type": "markdown",
   "metadata": {},
   "source": [
    "Despite their diversity, all articles share three key characteristics: first, a taste for experimentation and a remarkable ingenuity in devising solutions to overcome the common set of challenges they face; second, a critical attitude towards the use of digital tools and methods; and third, a strong interdisciplinary engagement. These three common traits derive from the challenges of working with computational tools and historical data. One of the main difficulties is the large volume of data and the wide scale of observation, which cannot be handled through the “traditional” methods of close reading and micro-analysis. To address this challenge, the authors imagine various reduction methods such as classification and filtering (Vierthaler, Armand), hierarchical clustering (Levine and Huang), pruning techniques (Henriot, Levine), and contextualised case studies. For example, Vierthaler analyses the specific textual connections between *Jinpingmei* and one its most influential sources (*Shuihu Zhuan*). Kaske and Kessler examine more specifically the figure of the prefect, while Henriot and Levine focuses on particular ego-networks and clusters. The authors continuously shift their lenses to navigate from individuals to groups (Henriot, Levine and Huang), from words to documents and corpora (Vierthaler, Henriot, Armand). To overcome the issue of article separation in massive press corpora, Armand applies topic modelling to selected segments of texts using concordance. Another challenge is the complexity of historical data, which cannot always be easily bent to computational tools. For example, Kaske and Kessler use simulation and probabilities to handle the complex system of bureaucratic appointments. To tackle the variety of social life as reported in contemporary newspapers, Henriot combines the network analysis of actors with the topic modelling of article contents. Missing information is another big issue. For example, the uncertain date of publication of *Jinpingmei*, incomplete game rules, truncated names in *Shenbao*, and gaps in archival documentation raise significant challenges. One of the strategies to fill the holes consists in formulating rational hypotheses informed by the authors’ intimate knowledge of the context and previous scholarship."
   ]
  },
  {
   "attachments": {},
   "cell_type": "markdown",
   "metadata": {},
   "source": [
    "The recognition of these challenges shapes the authors’ modesty and drives their commendable efforts to make historical research more transparent. Their contribution to “digital hermeneutics” (<cite data-cite=\"626961/75E7A2UI\"></cite>) encompasses its two key dimensions, namely source and tool criticism. The authors critically confront different source materials and algorithmic models to unveil their potential biases. For example, Vierthaler experiments with different models for text classification and develops proofs of concept to test their robustness before applying them to unknown cases. His philosophy is to “use the simplest methods possible that provide reliable results”. For this particular study, he chose to rely on the well-established “bag-of-words” representation of text (n-gram), instead of the trendy, yet less stable transformer-based models. Henriot and Armand compare different topic models, while Kaske and Kessler contrast different versions of the game and consider various possible scenarios for reaching the highest position with the highest return. This critical and experimental state of mind also helps the authors to anticipate the risk that the selected methods may “fail” or may not provide the expected level of accuracy, which is remarkably explained in Vierthaler’s paper. While he acknowledges the limitations of his “bag-of-word” approach, he is also able to draw important lessons from them. Trying to understand why and where the model fails leads to new discoveries about the original texts and to identifying the mentions of persons’ names as a major source of noise."
   ]
  },
  {
   "attachments": {},
   "cell_type": "markdown",
   "metadata": {},
   "source": [
    "This “thinkering” attitude - a neologism coined from the ingenuous merging of “thinking” and “tinkering”, which describes “the action of playful experimentation with technological and digital tools for the interpretation and presentation of history” (<cite data-cite=\"626961/5RE2UIBR\"></cite>) - demands strong interdisciplinary training or collaboration, particularly with computer sciences. In both cases, the authors manifest a deep commitment with the alter disciplines, which goes far beyond the passive reliance on “engineer servants”, as it is often the case among self-claimed digital humanists."
   ]
  },
  {
   "attachments": {},
   "cell_type": "markdown",
   "metadata": {},
   "source": [
    "Despite their computational twist and turns, the authors never lose sight of their scholarly questions and never depart from their disciplinary grounding. On the contrary, the strength of their analyses lies in their genuine engagement with the existing scholarship and their intimate knowledge of the intellectual debates in their respective fields. This knowledge not only helps them to formulate sound research hypotheses; it also provides a basis to strengthen, nuance, or revise previous findings, and to open new avenues for future investigation. For example, Vierthaler is able to make new hypotheses regarding the likely author and date of publication of *Jinpingmei*. Kaske and Kessler demonstrate the understudied importance of the prefect position as a springboard toward high officialdom. Henriot convincingly argues that a computational approach to the historical press challenges the previous, binary conceptualisation of newspapers as either texts or sources, while Armand provides insights into the circulation of information and journalistic practices among Chinese and foreign periodicals. Her corpus-based approach also contributes to substantiate the elusive notion of the “public sphere” and to precisely map its discursive practices. Levine and Huang’s findings from network analysis highlights Cai Yuanpei’s ambivalent relationship with the French model of education and suggests that Wang Jingwei may have been a key bridging figure between Japan and Vichy France during WWII."
   ]
  },
  {
   "attachments": {},
   "cell_type": "markdown",
   "metadata": {},
   "source": [
    "The *Journal of Digital History* (JDH) offers an ideal venue for reshaping the ways of writing Chinese history in the digital age. The authors skilfully appropriate the unique, multi-layered structure of the journal to deploy their experimental process and their critical perspective at the hermeneutic level, while using the narrative layer to expose their scholarly interpretations and engage with previous literature. The data and code are publicly accessible on Github, which significantly increases transparency and makes a huge step toward the ideal of making experiments reproducible and results more easily verifiable.  Ultimately, the three common threads that knit the articles together significantly expand the boundaries of Chinese studies and reshape the very notion of the “digital”. "
   ]
  },
  {
   "attachments": {},
   "cell_type": "markdown",
   "metadata": {},
   "source": [
    "## Unlocking Area Studies"
   ]
  },
  {
   "attachments": {},
   "cell_type": "markdown",
   "metadata": {},
   "source": [
    "What makes Chinese studies different from other fields in which digital methods have been applied? To what extent is it relevant to single out *Chinese* digital history? For sure, some of its features require specific training and expertise: the Chinese language, or more accurately, *languages* in the plural, given its multiple writing styles and accelerating changes since the late nineteenth century, (<cite data-cite=\"626961/UZ2WZAL7\"></cite>); the primary source materials available to China historians, although the digitisation of original sources and their conversion into data tend to smoothen material differences; and expert knowledge of the Chinese historical context. But after all, most of these requirements apply to other domains outside the China field as well. The distance between Chinese and non-Chinese digital history, ultimately, is no greater than the distance among the papers in this issue. It essentially depends on the data historians utilise and the research questions they address, which in turn, determines the tools and the methods they adopt. To some extent, the “digital” is bringing Chinese studies closer to other fields of research which also make use of digital data and methods. The greatest promise of the digital age is perhaps to relieve “area studies” from the scholarly isolation they have been enduring for decades (<cite data-cite=\"626961/M578XRKU\"></cite>). The digital may appear as an opportunity to reconnect the so-called area studies with more “central” areas of scholarship through a common language - the language of data - and a shared set of tools and methodologies."
   ]
  },
  {
   "attachments": {},
   "cell_type": "markdown",
   "metadata": {},
   "source": [
    "For now, however, Chinese studies and digital humanities (DH) alike are still the subjects of specific publications or special journal issues in Europe (see for instance, the special issue [“Beyond Guanxi”](https://historicalnetworkresearch.org/journal-of-historical-network-research-vol-5-no-1-2021-beyond-guanxi-chinese-historical-networks/) (<cite data-cite=\"626961/4IQ59F53\"></cite>) in the *Journal of Historical Network Research*, or the more recent [special issue on East Asian Studies](https://link.springer.com/journal/42803/volumes-and-issues/4-1) in the *International Journal of Digital Humanities*) (<cite data-cite=\"626961/BM7TKGYJ\"></cite>). This *JDH* special issue aims to join this wider effort to bridge the “old Europe” with the growing DH community in Asia. During the last two decades, the field of digital humanities has experienced a formidable expansion in the Chinese-speaking world (<cite data-cite=\"626961/6XCD3UUE\"></cite>). DH conferences, research centres, and training programs have multiplied in China, Taiwan, and Hong Kong. While Anglo-Saxon countries have been at the forefront of digital humanities over the last forty years, these new China-born initiatives will be setting the tone in the next decade. They are already paving the way towards what may become the future of digital humanities – the new *computational* paradigm driven by artificial intelligence."
   ]
  },
  {
   "attachments": {},
   "cell_type": "markdown",
   "metadata": {},
   "source": [
    "## Beyond the Digital: The Computational Turn"
   ]
  },
  {
   "attachments": {},
   "cell_type": "markdown",
   "metadata": {},
   "source": [
    "At first sight, the computational turn may sound like a return to the origins of Digital Humanities, which grew out of the forgotten “humanities computing” in the early 1960s (<cite data-cite=\"626961/DCJBNK8Y\"></cite>). However, the computational turn marks the beginning of a radically new era in humanities research. With the rapidly expanding field of artificial intelligence, deep learning, and large language models, humanities researchers can now envision “qualitative” research and deep reading at a wider scale, instead of merely counting words or mapping large trends. The new computational paradigm not only makes irrelevant most of the criticism raised against “cliometrics” and macro-analysis, but it radically challenges the binary framework that has emerged with the digital humanities, exemplified by the series of oppositions between quantitative/qualitative, macro/micro, close/distant reading. Levine and Huang’s “integrative approach”, which proposes to understand macro-historical changes through the lenses of individual choices and actions, is an excellent illustration of the potential of this multi-dimensional perspective."
   ]
  },
  {
   "attachments": {},
   "cell_type": "markdown",
   "metadata": {},
   "source": [
    "The five articles in this special issue are all contributing a leap forward in this direction. Their authors share what might be called a “computational way of thinking”, which encompasses three key dimensions: the capacity to translate historical questions into machine-actionable tasks; the aptitude to interpret computational outputs from a humanistic and critical perspective; and the ability to weave their discoveries with previous findings into a consistent, compelling narrative that speaks to a wide community of readers beyond their specific field of expertise. These are the three vital skills that scholars will have to acquire in the near future if they want to maintain their relevance in the age of algorithms and artificial intelligence."
   ]
  },
  {
   "attachments": {},
   "cell_type": "markdown",
   "metadata": {},
   "source": [
    "## Bibliography"
   ]
  },
  {
   "cell_type": "markdown",
   "metadata": {},
   "source": [
    "<div class=\"cite2c-biblio\"></div>"
   ]
  },
  {
   "cell_type": "markdown",
   "metadata": {
    "tags": [
     "hidden"
    ]
   },
   "source": [
    "Type Markdown and LaTeX:  𝛼2"
   ]
  },
  {
   "cell_type": "code",
   "execution_count": null,
   "metadata": {},
   "outputs": [],
   "source": [
    "# Check R version\n",
    "R.version"
   ]
  },
  {
   "cell_type": "code",
   "execution_count": null,
   "metadata": {},
   "outputs": [],
   "source": []
  }
 ],
 "metadata": {
  "celltoolbar": "Tags",
  "cite2c": {
   "citations": {
    "626961/4IQ59F53": {
     "DOI": "10.25517/jhnr.v5i1.131",
     "URL": "http://jhnr.uni.lu/index.php/jhnr/article/view/131",
     "accessed": {
      "day": 21,
      "month": 9,
      "year": 2023
     },
     "author": [
      {
       "family": "Rudolph",
       "given": "Henrike"
      },
      {
       "family": "Chen",
       "given": "Song"
      }
     ],
     "container-title": "Journal of Historical Network Research",
     "id": "626961/4IQ59F53",
     "issue": "1",
     "issued": {
      "day": 8,
      "month": 9,
      "year": 2021
     },
     "language": "en",
     "note": "Number: 1",
     "title": "Beyond Guanxi: Chinese Historical Networks",
     "type": "article-journal",
     "volume": "5"
    },
    "626961/5RE2UIBR": {
     "URL": "https://hal.science/hal-03351680",
     "accessed": {
      "day": 13,
      "month": 8,
      "year": 2023
     },
     "author": [
      {
       "family": "Fickers",
       "given": "Andreas"
      }
     ],
     "container-title": "DHNord 2017 : (dé)construire l'histoire numérique",
     "event-place": "Lille, France",
     "id": "626961/5RE2UIBR",
     "issued": {
      "month": 11,
      "year": 2017
     },
     "publisher": "Maison Européenne des Sciences de l'Homme et de la Société (MESHS)",
     "publisher-place": "Lille, France",
     "shortTitle": "Digital History",
     "title": "Digital History: On the heuristic potential of thinkering",
     "title-short": "Digital History",
     "type": "paper-conference"
    },
    "626961/6XCD3UUE": {
     "URL": "https://www.academia.edu/43600483/Charting_the_Emergence_of_the_Digital_Humanities_in_China",
     "abstract": "(Please message me to access full version) This chapter seeks to chart the emergence of the digital humanities paradigm within the Chinese humanities, especially its more recent developments from the mid-2010s onwards. These developments include the",
     "accessed": {
      "day": 13,
      "month": 8,
      "year": 2023
     },
     "author": [
      {
       "family": "Tsui",
       "given": "Lik Hang"
      }
     ],
     "container-title": "Chinese Culture in the 21st Century and its Global Dimensions",
     "id": "626961/6XCD3UUE",
     "issued": {
      "year": 2020
     },
     "language": "en",
     "page": "203",
     "page-first": "203",
     "title": "Charting the Emergence of the Digital Humanities in China",
     "type": "article-journal"
    },
    "626961/75E7A2UI": {
     "ISBN": "978-3-11-072399-1",
     "URL": "https://www.degruyter.com/document/doi/10.1515/9783110723991/html?lang=en",
     "abstract": "As a result of rapid advancements in computer science during recent decades, there has been an increased use of digital tools, methodologies and sources in the field of digital humanities. While opening up new opportunities for scholarship, many digital methods and tools now used for humanities research have nevertheless been developed by computer or data sciences and thus require a critical understanding of their mode of operation and functionality. The novel field of digital hermeneutics is meant to provide such a critical and reflexive frame for digital humanities research by acquiring digital literacy and skills. A new knowledge for the assessment of digital data, research infrastructures, analytical tools, and interpretative methods is needed, providing the humanities scholar with the necessary munition for doing critical research. The Doctoral Training Unit \"Digital History and Hermeneutics\" at the University of Luxembourg applies this analytical frame to 13 PhD projects. By combining a hermeneutic reflection on the new digital practices of humanities scholarship with hands-on experimentation with digital tools and methods, new approaches and opportunities as well as limitations and flaws can be addressed.",
     "accessed": {
      "day": 13,
      "month": 8,
      "year": 2023
     },
     "container-title": "Digital History and Hermeneutics",
     "editor": [
      {
       "family": "Fickers",
       "given": "Andreas"
      },
      {
       "family": "Tatarinov",
       "given": "Juliane"
      }
     ],
     "event-place": "Berlin",
     "id": "626961/75E7A2UI",
     "issued": {
      "year": 2022
     },
     "language": "en",
     "note": "DOI: 10.1515/9783110723991",
     "publisher": "De Gruyter",
     "publisher-place": "Berlin",
     "shortTitle": "Digital History and Hermeneutics",
     "title": "Digital History and Hermeneutics: Between Theory and Practice",
     "title-short": "Digital History and Hermeneutics",
     "type": "chapter"
    },
    "626961/8H9L6RT9": {
     "author": [
      {
       "family": "Blouin",
       "given": "Baptiste"
      },
      {
       "family": "Huang",
       "given": "Hen-Hsen"
      },
      {
       "family": "Henriot",
       "given": "Christian"
      },
      {
       "family": "Armand",
       "given": "Cécile"
      }
     ],
     "container-title": "Journal of Data Mining & Digital Humanities",
     "id": "626961/8H9L6RT9",
     "issued": {
      "year": 2023
     },
     "title": "Unlocking Transitional Chinese: Word Segmentation in Modern Historical Texts",
     "type": "article-journal"
    },
    "626961/BM7TKGYJ": {
     "DOI": "10.1007/s42803-022-00064-5",
     "URL": "https://doi.org/10.1007/s42803-022-00064-5",
     "accessed": {
      "day": 21,
      "month": 9,
      "year": 2023
     },
     "author": [
      {
       "family": "Horváth",
       "given": "Alíz"
      },
      {
       "family": "De Weerdt",
       "given": "Hilde"
      }
     ],
     "container-title": "International Journal of Digital Humanities",
     "container-title-short": "Int J Digit Humanities",
     "id": "626961/BM7TKGYJ",
     "issue": "1",
     "issued": {
      "day": 1,
      "month": 2,
      "year": 2023
     },
     "journalAbbreviation": "Int J Digit Humanities",
     "language": "en",
     "page": "1-4",
     "page-first": "1",
     "title": "Special issue on digital humanities and East Asian studies",
     "type": "article-journal",
     "volume": "4"
    },
    "626961/DCJBNK8Y": {
     "ISBN": "978-1-4051-0321-3",
     "URL": "https://companions.digitalhumanities.org/DH/?chapter=content/9781405103213_intro.html",
     "abstract": "\"A Companion to Digital Humanities provides a complete yet concise overview of this emerging discipline. The volume contains 37 original articles written by leaders in the field, addressing the central concerns of all those interested in the subject. The articles are grouped into topical sections focusing on: the experience of particular disciplines in applying computational methods to humanities research problems; the basic principles of humanities computing across applications and disciplines; specific applications and methods; and production, dissemination, and archiving. The Companion is accompanied by a website that will evolve with its readership, featuring useful supplementary materials, standard readings that are publicly available, essays to be included in future editions, and other materials - visit www.ach.org/companion.\"--Jacket",
     "accessed": {
      "day": 13,
      "month": 8,
      "year": 2023
     },
     "author": [
      {
       "family": "Schreibman",
       "given": "Susan"
      },
      {
       "family": "Siemens",
       "given": "Raymond George"
      },
      {
       "family": "Unsworth",
       "given": "John"
      }
     ],
     "collection-title": "Blackwell companions to literature and culture",
     "event-place": "Malden, MA",
     "id": "626961/DCJBNK8Y",
     "issued": {
      "year": 2004
     },
     "language": "eng",
     "note": "OCLC: 54500326",
     "number-of-pages": "611",
     "publisher": "Blackwell Pub.",
     "publisher-place": "Malden, MA",
     "title": "A Companion to Digital Humanities",
     "type": "book"
    },
    "626961/M578XRKU": {
     "ISBN": "978-81-7036-760-4",
     "author": [
      {
       "family": "Frank",
       "given": "Andre Gunder"
      }
     ],
     "event-place": "New Delhi",
     "id": "626961/M578XRKU",
     "issued": {
      "year": 1988
     },
     "language": "English",
     "note": "OCLC: 52903952",
     "publisher": "Vistaar Publications",
     "publisher-place": "New Delhi",
     "shortTitle": "ReOrient",
     "title": "ReOrient: global economy in the Asian Age",
     "title-short": "ReOrient",
     "type": "book"
    },
    "626961/UZ2WZAL7": {
     "author": [
      {
       "family": "Blouin",
       "given": "Baptiste"
      },
      {
       "family": "Huang",
       "given": "Hen-Hsen"
      },
      {
       "family": "Henriot",
       "given": "Christian"
      },
      {
       "family": "Armand",
       "given": "Cécile"
      }
     ],
     "id": "626961/UZ2WZAL7",
     "issued": {
      "year": 2024
     },
     "title": "Unlocking Transitional Chinese: Word Segmentation in Modern Historical Texts",
     "type": "article-journal"
    }
   }
  },
  "kernelspec": {
   "display_name": "R",
   "language": "R",
   "name": "ir"
  },
  "language_info": {
   "codemirror_mode": "r",
   "file_extension": ".r",
   "mimetype": "text/x-r-source",
   "name": "R",
   "pygments_lexer": "r",
   "version": "4.0.4"
  },
  "toc": {
   "base_numbering": 1,
   "nav_menu": {},
   "number_sections": true,
   "sideBar": true,
   "skip_h1_title": false,
   "title_cell": "Table of Contents",
   "title_sidebar": "Contents",
   "toc_cell": false,
   "toc_position": {},
   "toc_section_display": true,
   "toc_window_display": false
  }
 },
 "nbformat": 4,
 "nbformat_minor": 4
}
